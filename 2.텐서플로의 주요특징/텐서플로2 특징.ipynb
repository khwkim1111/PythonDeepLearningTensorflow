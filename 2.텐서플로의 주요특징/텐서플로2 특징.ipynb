{
 "cells": [
  {
   "cell_type": "markdown",
   "id": "f8de8ee6-2d98-4349-8b86-889c9776418b",
   "metadata": {},
   "source": [
    "## 텐서플로2 특징"
   ]
  },
  {
   "cell_type": "markdown",
   "id": "af465a90-8b4f-40b8-b6e5-72ef362e58a1",
   "metadata": {},
   "source": [
    "### 즉시실행\n",
    "#### 1.모델구조를 만들고 학습을 진행하는 과정이 직관적\n",
    "#### 2.둘째, 실행 결과를 바로 확인할 수 있기 때문에 오류를 수정할 수 있는 디버깅과정이 편리학다.\n",
    "#### 3.그래프 구조를 생각하지 않아도 되고, 파이썬 프로그래밍의 제어도구를 활용해서 모델 학습과정을 설계할 수 있다. "
   ]
  },
  {
   "cell_type": "code",
   "execution_count": 3,
   "id": "2c718814-ea8f-4cb9-ae92-811875871189",
   "metadata": {},
   "outputs": [],
   "source": [
    "import tensorflow as tf"
   ]
  },
  {
   "cell_type": "code",
   "execution_count": 5,
   "id": "55527047-60fe-4459-a09e-d52e362d6d8f",
   "metadata": {},
   "outputs": [
    {
     "name": "stdout",
     "output_type": "stream",
     "text": [
      "tf.Tensor(3, shape=(), dtype=int32)\n"
     ]
    }
   ],
   "source": [
    "a = 1\n",
    "b = 2\n",
    "c = tf.math.add(a,b)\n",
    "print(c) # c에 저장된 숫자3이 정수형(int32)로 저장되잌다는것을 나타냄"
   ]
  },
  {
   "cell_type": "code",
   "execution_count": 7,
   "id": "a1050d75-d0a7-42a0-ac83-28d5fb6ced1c",
   "metadata": {},
   "outputs": [
    {
     "data": {
      "text/plain": [
       "np.int32(3)"
      ]
     },
     "execution_count": 7,
     "metadata": {},
     "output_type": "execute_result"
    }
   ],
   "source": [
    "c.numpy() # 텐서 객체로부터 저장된 결과값 3을 추출하려면 변수이름뒤에 Numpy()메서드를 붙여야한다."
   ]
  },
  {
   "cell_type": "markdown",
   "id": "2a393096-59d5-4148-b996-13e44eacd691",
   "metadata": {},
   "source": [
    "### 고수준 API지원\n",
    "<style>\n",
    "    .tensorflow-info {\n",
    "        font-family: \"Arial\", sans-serif; /* 깔끔하고 현대적인 폰트 */\n",
    "        font-size: 16px; /* 읽기 편한 크기 */\n",
    "        line-height: 1.6; /* 적절한 줄 간격 */\n",
    "        color: #222222; /* 짙은 회색으로 안정감 있는 색상 */\n",
    "        background-color: #f5f5f5; /* 부드러운 배경색 */\n",
    "        padding: 15px; /* 텍스트 박스 여백 */\n",
    "        border-left: 5px solid #4caf50; /* 강조를 위한 왼쪽 테두리 */\n",
    "        box-shadow: 0 4px 8px rgba(0, 0, 0, 0.1); /* 부드러운 그림자 효과 */\n",
    "    }\n",
    "    .highlight {\n",
    "        color: #4caf50; /* 텍스트 강조 색상 */\n",
    "        font-weight: bold; /* 강조 텍스트 굵게 */\n",
    "    }\n",
    "</style>\n",
    "\n",
    "<div class=\"tensorflow-info\">\n",
    "    텐서플로 1과 달리 고수준 API인 <span class=\"highlight\">Keras</span> 를 텐서플로 라이브러리에서 통합하여 제공합니다.<br>  \n",
    "    또한, 텐서플로는 파이썬뿐만 아니라 <span class=\"highlight\">C++, Java</span> 등 다른 언어도 지원하고 있습니다.<br>  \n",
    "    그중에서 파이썬은 텐서플로 고유의 <span class=\"highlight\">저수준 API</span>를 활용할 수 있고, 그보다 상위에 있는 Keras 모델을 사용할 수도 있습니다.<br>  \n",
    "    <span class=\"highlight\">Keras</span>는 텐서플로 저수준 API인 <span class=\"highlight\">Layers</span>와 <span class=\"highlight\">Datasets</span> 같은 백엔드 자원을 활용하여 그 기반 위에서 만들어지는 개념입니다.\n",
    "</div>\n",
    "<img src=\"텐서플로 아키텍처.jpg\" alt=\"텐서플로 아키텍처\" width=\"300\" style=\"height: auto;\" />"
   ]
  },
  {
   "cell_type": "markdown",
   "id": "17de6673-ef38-4e96-b421-b2a336640c68",
   "metadata": {},
   "source": [
    "### 자동미분\n",
    "<style>\n",
    "    .content {\n",
    "        font-family: \"Arial\", sans-serif; /* 깔끔한 폰트 설정 */\n",
    "        font-size: 16px; /* 글씨 크기 */\n",
    "        line-height: 1.8; /* 줄 간격 */\n",
    "        color: #333333; /* 텍스트 색상 */\n",
    "        background-color: #f4f9ff; /* 연한 파란 배경 */\n",
    "        padding: 20px; /* 안쪽 여백 */\n",
    "        border: 1px solid #cccccc; /* 테두리 */\n",
    "        border-radius: 8px; /* 둥근 테두리 */\n",
    "        box-shadow: 2px 2px 10px rgba(0, 0, 0, 0.1); /* 박스 그림자 */\n",
    "    }\n",
    "    .highlight {\n",
    "        color: #007BFF; /* 강조 색상 */\n",
    "        font-weight: bold; /* 강조 텍스트 굵게 */\n",
    "    }\n",
    "</style>\n",
    "\n",
    "<div class=\"content\">\n",
    "    <span class=\"highlight\">텐서플로(TensorFlow)</span>는 딥러닝 모델 학습에 필요한 <span class=\"highlight\">복잡한 미분(differentiation)</span>을 자동으로 계산해줍니다.<br>\n",
    "    딥러닝 모델은 인간의 뇌 신경구조를 모방한 <span class=\"highlight\">인공신경망</span>으로 구현되며, 이는 인간의 뇌만큼 복잡한 구조를 가지고 있습니다. 복잡한 인공신경망의 구조는 <span class=\"highlight\">복잡한 수학 함수식</span>으로 표현되는데, 이 함수식을 사용해 딥러닝 모델이 예측값과 실제값 사이의 <span class=\"highlight\">오차를 최소화</span>하는 작업이 필요합니다.<br>\n",
    "    이 과정에서 <span class=\"highlight\">복잡한 함수를 미분</span>하는 과정이 필수적입니다. 이때 텐서플로는 이러한 미분 과정을 자동으로 처리해줌으로써 연구자와 개발자가 모델 학습을 더 쉽게 구현할 수 있도록 돕습니다.\n",
    "</div>\n",
    "\n",
    "<img src=\"함수의 기울기.jpg\" alt=\"함수의 미분\" width=\"300\" style=\"height: auto;\" />\n"
   ]
  },
  {
   "cell_type": "markdown",
   "id": "041d15a4-a515-45b0-9b52-02c4aae2b9c6",
   "metadata": {},
   "source": []
  },
  {
   "cell_type": "code",
   "execution_count": null,
   "id": "c1fbd2af-c169-421a-bcd1-f65ecf6e65f2",
   "metadata": {},
   "outputs": [],
   "source": []
  },
  {
   "cell_type": "markdown",
   "id": "04f752d7-7e23-444e-8d6a-5a74fc63e8de",
   "metadata": {},
   "source": []
  }
 ],
 "metadata": {
  "kernelspec": {
   "display_name": "Python 3 (ipykernel)",
   "language": "python",
   "name": "python3"
  },
  "language_info": {
   "codemirror_mode": {
    "name": "ipython",
    "version": 3
   },
   "file_extension": ".py",
   "mimetype": "text/x-python",
   "name": "python",
   "nbconvert_exporter": "python",
   "pygments_lexer": "ipython3",
   "version": "3.10.16"
  }
 },
 "nbformat": 4,
 "nbformat_minor": 5
}
