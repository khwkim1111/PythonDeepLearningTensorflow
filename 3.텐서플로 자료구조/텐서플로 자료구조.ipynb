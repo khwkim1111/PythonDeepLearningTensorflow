{
 "cells": [
  {
   "cell_type": "markdown",
   "id": "48e57f3d-b782-4b92-8fa8-a983fa92d9ac",
   "metadata": {},
   "source": [
    "## 텐서플로 자료구조"
   ]
  },
  {
   "cell_type": "markdown",
   "id": "5f0e5132-b2f8-4117-ab3d-fe4a77790554",
   "metadata": {},
   "source": [
    "<style>\n",
    "    .content {\n",
    "        font-family: \"Arial\", sans-serif;\n",
    "        font-size: 16px;\n",
    "        line-height: 1.6;\n",
    "        color: #333333;\n",
    "        background-color: #f4f4f4;\n",
    "        padding: 20px;\n",
    "        border-radius: 8px;\n",
    "        box-shadow: 2px 2px 10px rgba(0, 0, 0, 0.1);\n",
    "    }\n",
    "    .highlight {\n",
    "        color: #007BFF;\n",
    "        font-weight: bold;\n",
    "    }\n",
    "    .dimension {\n",
    "        font-size: 18px;\n",
    "        font-weight: bold;\n",
    "        color: #FF5733;\n",
    "    }\n",
    "    .description {\n",
    "        margin-left: 20px;\n",
    "        color: #555555;\n",
    "    }\n",
    "    .example {\n",
    "        color: #333333;\n",
    "        font-style: italic;\n",
    "    }\n",
    "</style>\n",
    "\n",
    "<div>\n",
    "파이썬 자료형에 해당하는 정수 1과 2를 텐서플로 연산에 입력값으로 사용했다. 이때 파이썬 자료형의 값들은 텐서플로 자료구조인 텐서로 변화되어 처리된다.\n",
    "</div>\n",
    "<img src=\"텐서의 종류.jpg\" alt=\"텐서의 종류\" width=\"300\" style=\"height: auto;\" />\n",
    "<style>\n",
    "    .content {\n",
    "        font-family: \"Arial\", sans-serif;\n",
    "        font-size: 16px;\n",
    "        line-height: 1.6;\n",
    "        color: #333333;\n",
    "        background-color: #f4f4f4;\n",
    "        padding: 20px;\n",
    "        border-radius: 8px;\n",
    "        box-shadow: 2px 2px 10px rgba(0, 0, 0, 0.1);\n",
    "    }\n",
    "    .highlight {\n",
    "        color: #007BFF;\n",
    "        font-weight: bold;\n",
    "    }\n",
    "    .dimension {\n",
    "        font-size: 18px;\n",
    "        font-weight: bold;\n",
    "        color: #FF5733;\n",
    "    }\n",
    "    .description {\n",
    "        margin-left: 20px;\n",
    "        color: #555555;\n",
    "    }\n",
    "</style>\n",
    "\n",
    "<div class=\"content\">\n",
    "    0차원 텐서인 스칼라(Scalar), 1차원 벡터(Vector), 2차원 행렬(Matrix), 3차원 텐서와 4차원 텐서까지 차수가 1씩 증가함에 따라 데이터 구조가 확장된다. 각 차수는 데이터가 변하는 방식을 나타내며, 점에서 선, 선에서 면, 면에서 입체로 변하는 공간 개념과 유사하다.\n",
    "    차수와 축의 관계\n",
    "    여기서 차수는 텐서를 구성하는 벡터의 개수를 나타낸다. 벡터는 어떤 축 방형으로 어떤 양이 존재하는 것을 표현한다. 딸아서 각 차원은 각각 고유의 정보를 나타내는 축이라고 이해할 수 있다.<br>\n",
    "    2차원 행렬의 예시\n",
    "    2차원 행렬의 경우 1차원 벡터들을 다른 축 방향으로 나열하는 개념이다.<br>\n",
    "</div>\n"
   ]
  },
  {
   "cell_type": "code",
   "execution_count": null,
   "id": "6279067d-a9ac-49ac-816a-e577f76dfb07",
   "metadata": {},
   "outputs": [],
   "source": []
  }
 ],
 "metadata": {
  "kernelspec": {
   "display_name": "Python 3 (ipykernel)",
   "language": "python",
   "name": "python3"
  },
  "language_info": {
   "codemirror_mode": {
    "name": "ipython",
    "version": 3
   },
   "file_extension": ".py",
   "mimetype": "text/x-python",
   "name": "python",
   "nbconvert_exporter": "python",
   "pygments_lexer": "ipython3",
   "version": "3.10.16"
  }
 },
 "nbformat": 4,
 "nbformat_minor": 5
}
