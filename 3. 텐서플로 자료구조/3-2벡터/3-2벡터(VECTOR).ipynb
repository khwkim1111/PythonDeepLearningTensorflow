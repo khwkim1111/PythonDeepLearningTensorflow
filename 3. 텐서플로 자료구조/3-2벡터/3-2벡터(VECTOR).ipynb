{
 "cells": [
  {
   "cell_type": "markdown",
   "id": "d76fed40-1bd4-487a-9dbd-c27c501c7f51",
   "metadata": {},
   "source": [
    "## 3-2 벡터(vector)"
   ]
  },
  {
   "cell_type": "markdown",
   "id": "1c5121b1-8328-46f2-b840-761de4c25d12",
   "metadata": {},
   "source": [
    "벡터는 여러 개의 스칼라 값을 원소로 갖는 1차원 배열로 표현된다. 스칼라 여러개가 동일환 축방향으로 나열되는 개념이다. 벡터는 원소로 구성되는 여러개의 값들이 모여서 하나의 대표성을 갖는 값이 된다.\n",
    "좌표계 공간으로 쵸현하면 어떤 방향으로 크기를 갖는다. 따라서 각 원소값의 크기뿐만 아니라, 원소들이 낭렬되는 순서도 의미가 있다. 그림에서 원소가 되는 10,20,30은 각각 스칼라이고 이들이 모여서 1차원 텐서인 벡터가 된다.\n",
    "형태만 보면 파이썬 리스트와 비슷하다. 벡터는 하나의 축을 갖기 때문에 차수가 1이고, '랭크-1'이라고 부른다.\n",
    "\n",
    "<img src=\"벡터1.jpg\" alt=\"벡터\" width=\"300\" style=\"height: auto;\" />\n",
    "\n",
    "예제를 통해 텐서플로에서 벡터를 정의하는 방법을 알아본다. constant함수에 1차원 배열을 입력하면 1차원 텐서인 벡터로 변환된다. 이때, 함수의 입력값으로 파이썬 리스트와 넘파이 배열을 모두 사용할 수 있다. 벡터의 shape속성은 (원소 개수, )형태로 표시된다."
   ]
  },
  {
   "cell_type": "code",
   "execution_count": 2,
   "id": "8fff6fcc-d990-4fbc-b183-cff985e176cf",
   "metadata": {},
   "outputs": [
    {
     "name": "stdout",
     "output_type": "stream",
     "text": [
      "vec1 :  tf.Tensor([10. 20. 30.], shape=(3,), dtype=float32)\n",
      "vec2 :  tf.Tensor([-10. -10. -10.], shape=(3,), dtype=float32)\n"
     ]
    }
   ],
   "source": [
    "#라이브러리 불러오기\n",
    "import tensorflow as tf\n",
    "import numpy as np\n",
    "\n",
    "#1차원 배열 정의\n",
    "py_list = [10.,20.,30.] #파이썬 리스트 활용\n",
    "num_arr =- np.array([10.,10.,10.]) # 남파이 배열 활용\n",
    "\n",
    "#텐서 변환\n",
    "vec1 = tf.constant(py_list,dtype=tf.float32)\n",
    "vec2 = tf.constant(num_arr,dtype=tf.float32)\n",
    "\n",
    "#텐서 출력\n",
    "print(\"vec1 : \",vec1)\n",
    "print(\"vec2 : \",vec2)"
   ]
  },
  {
   "cell_type": "markdown",
   "id": "e85cb76e-3a74-47de-bea5-3d576ca45100",
   "metadata": {},
   "source": [
    "실행 결과에서 텐서의 shpae 속성은 (3,)과 같이 1개의 축에 대해서만 크기가 표현된다. 1개의 축에 3개의 원소ㅓ가 있다는 뜻이다. 즉, 1개의 축을 갖는 것을 알 수 있다. dtype속성을 보면 텐서로 변환된 뒤에도 원본 배열의 실수형 속성이 그대로 유지되고 있다.\n",
    "shape속성에서 차수를 알 수 있지만, 텐서플로 rank함수를 사용하면 텐서의 차수를 반환해 준다. 다음 예제에서 2개의 벡터 모두 랭크가 1인 랭크-1 텐서라는것을 알 수 있다."
   ]
  },
  {
   "cell_type": "code",
   "execution_count": 3,
   "id": "8ca72541-40db-44ed-801e-56fed0672ec5",
   "metadata": {},
   "outputs": [
    {
     "name": "stdout",
     "output_type": "stream",
     "text": [
      "tf.Tensor(1, shape=(), dtype=int32)\n",
      "tf.Tensor(1, shape=(), dtype=int32)\n"
     ]
    }
   ],
   "source": [
    "#랭크 확인\n",
    "print(tf.rank(vec1))\n",
    "print(tf.rank(vec2))"
   ]
  },
  {
   "cell_type": "markdown",
   "id": "bf677d69-aec8-4a16-8734-b55a79c8e364",
   "metadata": {},
   "source": [
    "tf.math 모듈의 add함수로 덧셈 연산을 처리한다. 이때 같은 위치에 있는 원소들끼리(element-by-element)짝을 이루어 계산한다. 원소 3개를 갖ㅂ는 벡터(랭크-1 텐서)형태가 그대로 유지된다."
   ]
  },
  {
   "cell_type": "code",
   "execution_count": 4,
   "id": "bfbbfe26-7c13-447e-a2ac-bdff2df2d311",
   "metadata": {},
   "outputs": [
    {
     "name": "stdout",
     "output_type": "stream",
     "text": [
      "result:  tf.Tensor([ 0. 10. 20.], shape=(3,), dtype=float32)\n",
      "rank:  tf.Tensor(1, shape=(), dtype=int32)\n"
     ]
    }
   ],
   "source": [
    "#덧셈 함수\n",
    "add1 = tf.math.add(vec1,vec2)\n",
    "print(\"result: \",add1)\n",
    "print(\"rank: \",tf.rank(add1))"
   ]
  },
  {
   "cell_type": "markdown",
   "id": "f33b23c5-1160-434c-bef3-aabf4d47dfe9",
   "metadata": {},
   "source": [
    "<img src=\"벡터연산.jpg\" alt=\"벡터의 연산\" width=\"300\" style=\"height: auto;\" />\n",
    "파이썬에 내장된 덧셈 연산자 +를 사용할 수도 있다. 앞에서 add 연산자를 사용한 경우와 결과가 같다"
   ]
  },
  {
   "cell_type": "code",
   "execution_count": 7,
   "id": "54c549bb-8836-4fe1-a9ce-7cdf4c61f196",
   "metadata": {},
   "outputs": [
    {
     "name": "stdout",
     "output_type": "stream",
     "text": [
      "result: tf.Tensor([ 0. 10. 20.], shape=(3,), dtype=float32)\n",
      "rank: tf.Tensor(1, shape=(), dtype=int32)\n"
     ]
    }
   ],
   "source": [
    "#덧셈 연산자\n",
    "add2 = vec1 + vec2\n",
    "print(\"result:\",add2)\n",
    "print(\"rank:\",tf.rank(add2))"
   ]
  },
  {
   "cell_type": "code",
   "execution_count": null,
   "id": "22265878-0df8-40ee-9597-b4b10fda4291",
   "metadata": {},
   "outputs": [],
   "source": []
  }
 ],
 "metadata": {
  "kernelspec": {
   "display_name": "Python 3 (ipykernel)",
   "language": "python",
   "name": "python3"
  },
  "language_info": {
   "codemirror_mode": {
    "name": "ipython",
    "version": 3
   },
   "file_extension": ".py",
   "mimetype": "text/x-python",
   "name": "python",
   "nbconvert_exporter": "python",
   "pygments_lexer": "ipython3",
   "version": "3.10.16"
  }
 },
 "nbformat": 4,
 "nbformat_minor": 5
}
