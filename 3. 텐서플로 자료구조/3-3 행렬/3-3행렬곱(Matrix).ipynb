{
 "cells": [
  {
   "cell_type": "markdown",
   "id": "464afb22-7296-4a86-8a0c-cecb3f46083d",
   "metadata": {},
   "source": [
    "## 3-3 행렬(Matrix)"
   ]
  },
  {
   "cell_type": "markdown",
   "id": "01a6e210-110b-4db6-b410-3e570ee6e427",
   "metadata": {},
   "source": [
    "행렬은 차수가 1인 벡터를 같은 축 방향으로 나열하는 개념이다. 즉, 여러개의 1차원 벡터를 원소로 갖는 1차원 배열이댜. 원소의 차수가 1이므로 총 차수는 2가 된다. 텐서플로에서는 '랭크-2'라고 부른다.\n",
    "그림의 왼쪽 그림과 같이 '랭크-2'텐서는 여러개의 1차원 배열('랭크-1' 텐서)을 원소로 갖는 벡터의 형대로 표현된다. 오른쪽 그림과 같이 행(raw)과 열(column)이라는 2개의 축을 갖는 2차원 구조로 표현할 수도 있다. 원소가 되는 1차원 벡터들이 행을 구성하는 단위가 되면, 각 벡터의 동일한 위치에 있는 원소들끼리 열을 구성하는 단위가 된다.\n",
    "\n",
    "<img src=\"행렬.jpg\" alt=\"행렬이미지\" width=\"300\" style=\"height: auto;\" />\n",
    "\n",
    "다음 예제는 [[10,20],[30,40]]과 같이, 2개의 리스트를 원소로 갖는 리시트를 사용해서 (2행,2열)구조로 2차원 행렬 텐서를 만드는 내용이다. 앞 부분에서 스칼라와 벡터를 만든것과 같이 constant함수에 배열을 입력하면 텐서로 변환해준다. 2차원 배열을 입력값으로 전달했기 때문에, 함수가 반환하는 텐서는 2차원이 된다."
   ]
  },
  {
   "cell_type": "code",
   "execution_count": 1,
   "id": "decc2d7b-2a2c-43cb-9a8f-89ca36fd739c",
   "metadata": {},
   "outputs": [
    {
     "name": "stdout",
     "output_type": "stream",
     "text": [
      "rank:  tf.Tensor(2, shape=(), dtype=int32)\n",
      "mat1: tf.Tensor(\n",
      "[[10 20]\n",
      " [30 40]], shape=(2, 2), dtype=int32)\n"
     ]
    }
   ],
   "source": [
    "#라이브러리 불러오기\n",
    "import tensorflow as tf\n",
    "\n",
    "list_of_list = [[10,20],[30,40]]\n",
    "\n",
    "#텐서변환 - constant 함수에 2차원 배열 입력\n",
    "mat1 = tf.constant(list_of_list)\n",
    "\n",
    "#랭크 확인\n",
    "print(\"rank: \",tf.rank(mat1))\n",
    "\n",
    "#텐서 출력\n",
    "print(\"mat1:\",mat1)"
   ]
  },
  {
   "cell_type": "markdown",
   "id": "91a6132b-86be-4ebd-b641-b760fcc7d1f8",
   "metadata": {},
   "source": [
    "rank함수로 변환된 행렬 텐서의 차수를 확인해보면 랭크가 2임을 알 수 있다. 행 방향과 열 방향으로 2개의 축이 존재하므로 축의 개수를 나타내는 차수는 2가 된다. 또한, 행렬의 shapedms (2,2)가 되는데 (행의 개수, 열의개수)형태를 나타낸다.\n",
    "행의 개수는 2차원 배열을 구성하는 벡터의 개수가 되고, 열의 개수는 각 벡터를 구성하는 원소의 개수가 된다.\n",
    "stack 함수를 사용해서 행렬을 만들 수 있다. 1차원 벡터2개를 stack함수를 이용하여 결합하는 방식이다. 따라서 차수가 2인 랭크-2 텐서가 된다"
   ]
  },
  {
   "cell_type": "code",
   "execution_count": 3,
   "id": "ad066188-0252-43fa-92b6-cc4b54ef2f57",
   "metadata": {},
   "outputs": [
    {
     "name": "stdout",
     "output_type": "stream",
     "text": [
      "rank: tf.Tensor(2, shape=(), dtype=int32)\n",
      "mat2: tf.Tensor(\n",
      "[[ 1  0]\n",
      " [-1  2]], shape=(2, 2), dtype=int32)\n"
     ]
    }
   ],
   "source": [
    "#1차원 벡터 정의\n",
    "vec1 = tf.constant([1,0])\n",
    "vec2 = tf.constant([-1,2])\n",
    "\n",
    "#텐서 변환 - stack 함수로 1차원 배열을 위아래로 쌓기\n",
    "mat2 = tf.stack([vec1,vec2])\n",
    "#랭크 확인\n",
    "print(\"rank:\",tf.rank(mat2))\n",
    "\n",
    "#텐서 출력하기\n",
    "print(\"mat2:\",mat2)"
   ]
  },
  {
   "cell_type": "markdown",
   "id": "c729feee-182e-477a-8df8-8593e6bcdc7e",
   "metadata": {},
   "source": [
    "2차원 구조인 행렬에도 벡터에 적용된 바와 같이 math모듈의 수학 함수들을 그대로 적용할 수 있다. 마찬가지로, 같은 위치에 있는 원소들끼리(element-by-element)짝을 이루어 계산한다.\n",
    "그림과 다음 예제는 multiply함수를 사용하여 각 원소들을 서로 곱하는 과정을 보여준다.\n",
    "\n",
    "<img src=\"행렬연산.jpg\" alt=\"행렬연산\" width=\"300\" style=\"height: auto;\" />             "
   ]
  },
  {
   "cell_type": "code",
   "execution_count": 5,
   "id": "dd65407c-7e2f-41ea-bad5-53370626c0de",
   "metadata": {},
   "outputs": [
    {
     "name": "stdout",
     "output_type": "stream",
     "text": [
      "result: tf.Tensor(\n",
      "[[ 10   0]\n",
      " [-30  80]], shape=(2, 2), dtype=int32)\n",
      "rank: tf.Tensor(2, shape=(), dtype=int32)\n"
     ]
    }
   ],
   "source": [
    "#element-by-element 연산\n",
    "element_mul = tf.math.multiply(mat1,mat2)\n",
    "print(\"result:\",element_mul)\n",
    "print(\"rank:\",tf.rank(element_mul))"
   ]
  },
  {
   "cell_type": "markdown",
   "id": "838e48bd-8bf9-400f-b860-e93e03bde2ee",
   "metadata": {},
   "source": [
    "2차원 행렬에 스칼라 값인 3을 곱하면, 행렬의 모든 원소에 3을 곱하게 된다. 행렬의 원소가 모두 3으로 구성되는 2차원 행렬 형태로 확장되어 연산을 처리하게 된다."
   ]
  },
  {
   "cell_type": "code",
   "execution_count": 6,
   "id": "0783f366-e74d-4896-bb3e-7c936c0065cc",
   "metadata": {},
   "outputs": [
    {
     "name": "stdout",
     "output_type": "stream",
     "text": [
      "result: tf.Tensor(\n",
      "[[ 30  60]\n",
      " [ 90 120]], shape=(2, 2), dtype=int32)\n",
      "rank: tf.Tensor(2, shape=(), dtype=int32)\n"
     ]
    }
   ],
   "source": [
    "#브로드캐스트 연산\n",
    "element_bc = tf.math.multiply(mat1,3)\n",
    "print(\"result:\",element_bc)\n",
    "print(\"rank:\",tf.rank(element_bc))"
   ]
  },
  {
   "cell_type": "markdown",
   "id": "5f4618a3-6b8c-4e52-aca0-49494775e706",
   "metadata": {},
   "source": [
    "선형대수에서 다루는 행렬곱 연산은 matmul함수를 사용하여 처리한다. 행렬곱은 벡터의 선형결합 또는 선형사상등 선형대수학의 기초가 되는 연산이다.\n",
    "\n",
    "<img src=\"행렬곱.jpeg\" alt=\"행렬곱\" width=\"300\" style=\"height: auto;\" />  "
   ]
  },
  {
   "cell_type": "code",
   "execution_count": 8,
   "id": "be64218b-eaa6-43f6-bb02-35bc87da347e",
   "metadata": {},
   "outputs": [
    {
     "name": "stdout",
     "output_type": "stream",
     "text": [
      "result: tf.Tensor(\n",
      "[[-10  40]\n",
      " [-10  80]], shape=(2, 2), dtype=int32)\n",
      "rank: tf.Tensor(2, shape=(), dtype=int32)\n"
     ]
    }
   ],
   "source": [
    "#행렬곱 연산\n",
    "mat_mul = tf.matmul(mat1,mat2)\n",
    "print(\"result:\",mat_mul)\n",
    "print(\"rank:\",tf.rank(mat_mul))"
   ]
  },
  {
   "cell_type": "markdown",
   "id": "ab400a62-1f89-4725-9cad-5ff76e440137",
   "metadata": {},
   "source": [
    "덧셈 연산은 add함수로 처리한다. 같은 위치에 있는 원소들끼리 더한 값들을 원래 크기와 같은 행렬에 반환된다."
   ]
  },
  {
   "cell_type": "code",
   "execution_count": 9,
   "id": "c0f4dd2e-66f0-4fc9-9405-3bafa791e605",
   "metadata": {},
   "outputs": [
    {
     "name": "stdout",
     "output_type": "stream",
     "text": [
      "result: tf.Tensor(\n",
      "[[11 20]\n",
      " [29 42]], shape=(2, 2), dtype=int32)\n",
      "rank: tf.Tensor(2, shape=(), dtype=int32)\n"
     ]
    }
   ],
   "source": [
    "#덧셈연산\n",
    "add1 = tf.math.add(mat1,mat2)\n",
    "print(\"result:\",add1)\n",
    "print(\"rank:\",tf.rank(add1))"
   ]
  },
  {
   "cell_type": "markdown",
   "id": "199bf186-87fe-4854-8887-1f745eb922d1",
   "metadata": {},
   "source": [
    "파이썬 덧셈연산자를 사용해도 같은 결과를 얻을 수 있다."
   ]
  },
  {
   "cell_type": "code",
   "execution_count": 10,
   "id": "dfecd6f7-16fc-4260-9788-36f76c12ea93",
   "metadata": {},
   "outputs": [
    {
     "name": "stdout",
     "output_type": "stream",
     "text": [
      "result: tf.Tensor(\n",
      "[[11 20]\n",
      " [29 42]], shape=(2, 2), dtype=int32)\n",
      "rank: tf.Tensor(2, shape=(), dtype=int32)\n"
     ]
    }
   ],
   "source": [
    "#덧셈 연산자\n",
    "add2 = mat1 + mat2\n",
    "print(\"result:\",add2)\n",
    "print(\"rank:\",tf.rank(add2))"
   ]
  },
  {
   "cell_type": "code",
   "execution_count": null,
   "id": "5a131cdb-65c1-4af9-ad6b-16cd1db4d851",
   "metadata": {},
   "outputs": [],
   "source": [
    "넘파이 배열을 텐서로 변환할 수 있듯이, 텐서를 넘파이 배열로 변환할 수 있다. numpy() ㅁ"
   ]
  }
 ],
 "metadata": {
  "kernelspec": {
   "display_name": "Python 3 (ipykernel)",
   "language": "python",
   "name": "python3"
  },
  "language_info": {
   "codemirror_mode": {
    "name": "ipython",
    "version": 3
   },
   "file_extension": ".py",
   "mimetype": "text/x-python",
   "name": "python",
   "nbconvert_exporter": "python",
   "pygments_lexer": "ipython3",
   "version": "3.10.16"
  }
 },
 "nbformat": 4,
 "nbformat_minor": 5
}
