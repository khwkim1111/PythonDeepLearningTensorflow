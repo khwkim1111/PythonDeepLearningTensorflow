{
 "cells": [
  {
   "cell_type": "markdown",
   "id": "464afb22-7296-4a86-8a0c-cecb3f46083d",
   "metadata": {},
   "source": [
    "## 3-3 행렬(Matrix)"
   ]
  },
  {
   "cell_type": "markdown",
   "id": "01a6e210-110b-4db6-b410-3e570ee6e427",
   "metadata": {},
   "source": [
    "행렬은 차수가 1인 벡터를 같은 축 방향으로 나열하는 개념이다. 즉, 여러개의 1차원 벡터를 원소로 갖는 1차원 배열이댜. 원소의 차수가 1이므로 총 차수는 2가 된다. 텐서플로에서는 '랭크-2'라고 부른다.\n",
    "그림의 왼쪽 그림과 같이 '랭크-2'텐서는 여러개의 1차원 배열('랭크-1' 텐서)을 원소로 갖는 벡터의 형대로 표현된다. 오른쪽 그림과 같이 행(raw)과 열(column)이라는 2개의 축을 갖는 2차원 구조로 표현할 수도 있다. 원소가 되는 1차원 벡터들이 행을 구성하는 단위가 되면, 각 벡터의 동일한 위치에 있는 원소들끼리 열을 구성하는 단위가 된다.\n"
   ]
  }
 ],
 "metadata": {
  "kernelspec": {
   "display_name": "Python 3 (ipykernel)",
   "language": "python",
   "name": "python3"
  },
  "language_info": {
   "codemirror_mode": {
    "name": "ipython",
    "version": 3
   },
   "file_extension": ".py",
   "mimetype": "text/x-python",
   "name": "python",
   "nbconvert_exporter": "python",
   "pygments_lexer": "ipython3",
   "version": "3.10.16"
  }
 },
 "nbformat": 4,
 "nbformat_minor": 5
}
