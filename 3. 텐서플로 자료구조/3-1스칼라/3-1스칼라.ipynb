{
 "cells": [
  {
   "cell_type": "markdown",
   "id": "48e57f3d-b782-4b92-8fa8-a983fa92d9ac",
   "metadata": {},
   "source": [
    "## 텐서플로 자료구조"
   ]
  },
  {
   "cell_type": "markdown",
   "id": "5f0e5132-b2f8-4117-ab3d-fe4a77790554",
   "metadata": {},
   "source": [
    "<style>\n",
    "    .content {\n",
    "        font-family: \"Arial\", sans-serif;\n",
    "        font-size: 16px;\n",
    "        line-height: 1.6;\n",
    "        color: #333333;\n",
    "        background-color: #f4f4f4;\n",
    "        padding: 20px;\n",
    "        border-radius: 8px;\n",
    "        box-shadow: 2px 2px 10px rgba(0, 0, 0, 0.1);\n",
    "    }\n",
    "    .highlight {\n",
    "        color: #007BFF;\n",
    "        font-weight: bold;\n",
    "    }\n",
    "    .dimension {\n",
    "        font-size: 18px;\n",
    "        font-weight: bold;\n",
    "        color: #FF5733;\n",
    "    }\n",
    "    .description {\n",
    "        margin-left: 20px;\n",
    "        color: #555555;\n",
    "    }\n",
    "    .example {\n",
    "        color: #333333;\n",
    "        font-style: italic;\n",
    "    }\n",
    "</style>\n",
    "\n",
    "<div>\n",
    "파이썬 자료형에 해당하는 정수 1과 2를 텐서플로 연산에 입력값으로 사용했다. 이때 파이썬 자료형의 값들은 텐서플로 자료구조인 텐서로 변화되어 처리된다.\n",
    "</div>\n",
    "<img src=\"텐서의 종류.jpg\" alt=\"텐서의 종류\" width=\"300\" style=\"height: auto;\" />\n",
    "<style>\n",
    "    .content {\n",
    "        font-family: \"Arial\", sans-serif;\n",
    "        font-size: 16px;\n",
    "        line-height: 1.6;\n",
    "        color: #333333;\n",
    "        background-color: #f4f4f4;\n",
    "        padding: 20px;\n",
    "        border-radius: 8px;\n",
    "        box-shadow: 2px 2px 10px rgba(0, 0, 0, 0.1);\n",
    "    }\n",
    "    .highlight {\n",
    "        color: #007BFF;\n",
    "        font-weight: bold;\n",
    "    }\n",
    "    .dimension {\n",
    "        font-size: 18px;\n",
    "        font-weight: bold;\n",
    "        color: #FF5733;\n",
    "    }\n",
    "    .description {\n",
    "        margin-left: 20px;\n",
    "        color: #555555;\n",
    "    }\n",
    "</style>\n",
    "\n",
    "<div class=\"content\">\n",
    "    0차원 텐서인 스칼라(Scalar), 1차원 벡터(Vector), 2차원 행렬(Matrix), 3차원 텐서와 4차원 텐서까지 차수가 1씩 증가함에 따라 데이터 구조가 확장된다. 각 차수는 데이터가 변하는 방식을 나타내며, 점에서 선, 선에서 면, 면에서 입체로 변하는 공간 개념과 유사하다.\n",
    "    차수와 축의 관계\n",
    "    여기서 차수는 텐서를 구성하는 벡터의 개수를 나타낸다. 벡터는 어떤 축 방형으로 어떤 양이 존재하는 것을 표현한다. 딸아서 각 차원은 각각 고유의 정보를 나타내는 축이라고 이해할 수 있다.<br>\n",
    "    2차원 행렬의 예시\n",
    "    2차원 행렬의 경우 1차원 벡터들을 다른 축 방향으로 나열하는 개념이다.<br>\n",
    "</div>\n"
   ]
  },
  {
   "cell_type": "markdown",
   "id": "8ba4d340-936b-43f4-ba81-52e338eb6079",
   "metadata": {},
   "source": [
    "### 3-1 스칼라\n",
    "스칼라는 정수나 실수와 같은 상수 (Constant Number)를 나타낸다고 이해하면 쉽다. 양을 나타내기는 하지만, 방향성을 갖지는 않는다. 따라서 벡터가 존재하지 않기 때문에 차수가 0이 된다.\n",
    "텐서플로에서는 '랭크(rank)-0'텐서라고 부른다. 여기서 랭크는 앞엣거 설명한 텐서의 차수를 나타낸다. 스칼라는 벡터가 없는 0차원으로 표현되기 때문에 '랭크(rank)-0' 텐서라고 정의한다."
   ]
  },
  {
   "cell_type": "code",
   "execution_count": 2,
   "id": "1b4cf9e9-5067-4554-b4e9-4a5353725914",
   "metadata": {},
   "outputs": [
    {
     "name": "stdout",
     "output_type": "stream",
     "text": [
      "a: tf.Tensor(1, shape=(), dtype=int32)\n",
      "b: tf.Tensor(2, shape=(), dtype=int32)\n"
     ]
    }
   ],
   "source": [
    "import tensorflow as tf\n",
    "\n",
    "a = tf.constant(1)\n",
    "b = tf.constant(2)\n",
    "print(\"a:\",a)\n",
    "print(\"b:\",b)"
   ]
  },
  {
   "cell_type": "markdown",
   "id": "da718eb7-da5d-4582-81c5-55bdbd649a53",
   "metadata": {},
   "source": [
    "스칼라 텐서는 constant 함수에 상수값을 입력해서 만들 수 있다. 변수 a에는 스칼라 1을 할당하고, 변수b에는 스칼라2를 저장하고, 변수a와 b를 print함수로 출력해본다. 정수1과 2는 텐서(rf,Tensor)로 변환된것을 알 수 있다. 여기서 배열의 크기를 나타내는 shape = ()값을 보면, 배열을 나타내는 값이 존재하지 않기 때문에 0차원이라고 보면된다. 즉, 정수 1과 2는 0차원 텐서인 스칼로로 저장된 것을 확인할 수 있다.\n",
    "rank함수를 사용하면 텐서객체의 랭크(차수)를 알수 있다. 변수 a에 저장된 텐서의 랭크를 출력하면 값이 0이다. 따라서 랭크가 0인 스칼라 텐서라는것을 확인할 수 있다."
   ]
  },
  {
   "cell_type": "code",
   "execution_count": 3,
   "id": "a05ca87f-bfb6-472d-b6c0-c5505364dd21",
   "metadata": {},
   "outputs": [
    {
     "name": "stdout",
     "output_type": "stream",
     "text": [
      "tf.Tensor(0, shape=(), dtype=int32)\n"
     ]
    }
   ],
   "source": [
    "print(tf.rank(a))"
   ]
  },
  {
   "cell_type": "markdown",
   "id": "f4890c0e-3991-4292-9019-0ca70cf479c2",
   "metadata": {},
   "source": [
    "텐서 자료형을 변환하고 싶을때, cast함수를 사용하면 된다. 32비트 정수형을 나타내는 int32로 저장되어 있는데, 32비트 실수형을 나타내는 float32로 변환해본다."
   ]
  },
  {
   "cell_type": "code",
   "execution_count": 5,
   "id": "4b3d8e89-a7a7-4fe4-919d-5b683875964e",
   "metadata": {},
   "outputs": [
    {
     "name": "stdout",
     "output_type": "stream",
     "text": [
      "a: <dtype: 'int32'>\n",
      "b: <dtype: 'int32'>\n"
     ]
    }
   ],
   "source": [
    "#자료형을 변환\n",
    "a = tf.constant(1)\n",
    "b = tf.constant(2)\n",
    "print(\"a:\",a.dtype)\n",
    "print(\"b:\",b.dtype)\n"
   ]
  },
  {
   "cell_type": "markdown",
   "id": "92317f7c-1c21-4a9c-8c3a-fe64bf3cbc69",
   "metadata": {},
   "source": [
    "math모듈에는 여러가지 수학함수가 정의되어있다. 텐서간의 덧셈은 add함수를 사용한다. 스칼라 텐서 a와 스칼라 텐서b를 더한 결과변수 c에 대입하고 출력해보면, \n",
    "실수형 값인 3.0이 저장되어있다. 스칼라 텐서를 서로 더한 결과도 스칼라 텐서이므로 랭크는 0이된다."
   ]
  },
  {
   "cell_type": "code",
   "execution_count": 7,
   "id": "fc675419-fab6-467d-9f11-655ae56f5e91",
   "metadata": {},
   "outputs": [
    {
     "name": "stdout",
     "output_type": "stream",
     "text": [
      "result :  tf.Tensor(3, shape=(), dtype=int32)\n",
      "rank:  tf.Tensor(0, shape=(), dtype=int32)\n"
     ]
    }
   ],
   "source": [
    "#덧셈\n",
    "c = tf.math.add(a,b)\n",
    "print(\"result : \",c)\n",
    "print(\"rank: \",tf.rank(c))"
   ]
  },
  {
   "cell_type": "markdown",
   "id": "2023fbf4-8380-4b58-bded-e4007fcfd967",
   "metadata": {},
   "source": [
    "스칼라 사이에 뺄셈, 곱셈, 나눗셈과 같은 다른 사칙연산을 적용할 수 도 있다."
   ]
  },
  {
   "cell_type": "code",
   "execution_count": 12,
   "id": "dc6997ac-3d7c-41d8-b137-ad3efc8d65d1",
   "metadata": {},
   "outputs": [
    {
     "name": "stdout",
     "output_type": "stream",
     "text": [
      "tf.Tensor(-1, shape=(), dtype=int32)\n"
     ]
    }
   ],
   "source": [
    "#뺼셈\n",
    "print(tf.math.subtract(a,b))"
   ]
  },
  {
   "cell_type": "code",
   "execution_count": 13,
   "id": "f2aaa1bc-c1c6-42ce-811f-bf2b35ba652a",
   "metadata": {},
   "outputs": [
    {
     "name": "stdout",
     "output_type": "stream",
     "text": [
      "tf.Tensor(2, shape=(), dtype=int32)\n"
     ]
    }
   ],
   "source": [
    "#곱셈\n",
    "print(tf.math.multiply(a,b))"
   ]
  },
  {
   "cell_type": "code",
   "execution_count": 15,
   "id": "4486c231-a654-43cd-a227-fe5ec5aa8620",
   "metadata": {},
   "outputs": [
    {
     "name": "stdout",
     "output_type": "stream",
     "text": [
      "tf.Tensor(0.5, shape=(), dtype=float64)\n"
     ]
    }
   ],
   "source": [
    "#나눗셈\n",
    "print(tf.math.divide(a,b))"
   ]
  },
  {
   "cell_type": "code",
   "execution_count": 16,
   "id": "62ad80e0-19a3-474a-b9bf-3629db420881",
   "metadata": {},
   "outputs": [
    {
     "name": "stdout",
     "output_type": "stream",
     "text": [
      "tf.Tensor(1, shape=(), dtype=int32)\n"
     ]
    }
   ],
   "source": [
    "#나눗셈(나머지)\n",
    "print(tf.math.mod(a,b))"
   ]
  },
  {
   "cell_type": "code",
   "execution_count": 17,
   "id": "1f170ed7-c542-4cb8-982d-060ef43d7fec",
   "metadata": {},
   "outputs": [
    {
     "name": "stdout",
     "output_type": "stream",
     "text": [
      "tf.Tensor(0, shape=(), dtype=int32)\n"
     ]
    }
   ],
   "source": [
    "#나눗셈(몫)\n",
    "print(tf.math.floordiv(a,b))"
   ]
  },
  {
   "cell_type": "code",
   "execution_count": null,
   "id": "35e31ed3-a418-4575-9aa9-28db6564fbf7",
   "metadata": {},
   "outputs": [],
   "source": []
  }
 ],
 "metadata": {
  "kernelspec": {
   "display_name": "Python 3 (ipykernel)",
   "language": "python",
   "name": "python3"
  },
  "language_info": {
   "codemirror_mode": {
    "name": "ipython",
    "version": 3
   },
   "file_extension": ".py",
   "mimetype": "text/x-python",
   "name": "python",
   "nbconvert_exporter": "python",
   "pygments_lexer": "ipython3",
   "version": "3.10.16"
  }
 },
 "nbformat": 4,
 "nbformat_minor": 5
}
